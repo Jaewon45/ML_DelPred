{
 "cells": [
  {
   "cell_type": "code",
   "execution_count": 1,
   "id": "cd52ef98",
   "metadata": {},
   "outputs": [],
   "source": [
    "import numpy as np\n",
    "import pandas as pd\n",
    "from pathlib import Path\n",
    "from time import time\n",
    "\n",
    "start = time()\n",
    "\n",
    "dataset_path = r\"/Users/jaewon/Desktop/eicu/delirium-master/First 24 Hour/Dataset/\"\n",
    "eicu_path = r\"/Users/jaewon/Desktop/eicu/\"\n",
    "medication_path = r\"/Users/jaewon/Desktop/eicu/delirium-master/First 24 Hour/Features/Medications\"\n",
    "\n",
    "# pull relevant HICL codes\n",
    "hicl = pd.read_csv(eicu_path+\"medication.csv\", usecols=['drugname','drughiclseqno'])\n",
    "hicl = hicl.dropna()\n",
    "hicl = hicl.drop_duplicates()\n",
    "hicl.to_csv(\"HICLlegend.csv\",index=False)\n",
    "\n",
    "calc = time() - start"
   ]
  },
  {
   "cell_type": "code",
   "execution_count": null,
   "id": "e6257eef",
   "metadata": {},
   "outputs": [],
   "source": []
  }
 ],
 "metadata": {
  "kernelspec": {
   "display_name": "Python 3 (ipykernel)",
   "language": "python",
   "name": "python3"
  },
  "language_info": {
   "codemirror_mode": {
    "name": "ipython",
    "version": 3
   },
   "file_extension": ".py",
   "mimetype": "text/x-python",
   "name": "python",
   "nbconvert_exporter": "python",
   "pygments_lexer": "ipython3",
   "version": "3.7.13"
  }
 },
 "nbformat": 4,
 "nbformat_minor": 5
}
